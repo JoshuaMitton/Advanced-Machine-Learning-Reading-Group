{
 "cells": [
  {
   "cell_type": "code",
   "execution_count": 148,
   "metadata": {},
   "outputs": [],
   "source": [
    "import numpy as np\n",
    "import matplotlib.pyplot as plt\n",
    "import scipy.stats as stats\n",
    "import math"
   ]
  },
  {
   "cell_type": "markdown",
   "metadata": {},
   "source": [
    "# Introducing Bayesian statistics through a betting game\n",
    "\n",
    "## The game\n",
    " - Throwing a coin and betting on the outcome being a Heads or a Tails\n",
    " - If the outcome is Heads you win £1 otherwise you win £0\n",
    " - Under what conditions would you play this game?"
   ]
  },
  {
   "cell_type": "code",
   "execution_count": 26,
   "metadata": {},
   "outputs": [],
   "source": [
    "def throw(p=True):\n",
    "    if np.random.rand() > 0.5:\n",
    "        if p:\n",
    "            print('Heads')\n",
    "        return 1.0\n",
    "    else:\n",
    "        if p:\n",
    "            print('Tails')\n",
    "        return 0.0"
   ]
  },
  {
   "cell_type": "code",
   "execution_count": 27,
   "metadata": {},
   "outputs": [
    {
     "name": "stdout",
     "output_type": "stream",
     "text": [
      "Tails\n"
     ]
    }
   ],
   "source": [
    "_ = throw()"
   ]
  },
  {
   "cell_type": "code",
   "execution_count": 28,
   "metadata": {},
   "outputs": [
    {
     "name": "stdout",
     "output_type": "stream",
     "text": [
      "0.53\n"
     ]
    }
   ],
   "source": [
    "results = np.array([throw(p=False) for _ in range(100)])\n",
    "print(np.mean(results))"
   ]
  },
  {
   "cell_type": "markdown",
   "metadata": {},
   "source": [
    "## Would you play:\n",
    " - If it costs £0.05 to play?\n"
   ]
  },
  {
   "cell_type": "code",
   "execution_count": 75,
   "metadata": {},
   "outputs": [],
   "source": [
    "def game(Games, cost_to_play, p=True):\n",
    "    yes='Yes'\n",
    "    no='No'\n",
    "\n",
    "    total_cost = Games * cost_to_play\n",
    "    if p:\n",
    "        print(f'Amount it costs you : £{total_cost}')\n",
    "\n",
    "    winnings = np.sum(np.array([throw(p=False) for _ in range(Games)]))\n",
    "    if p:\n",
    "        print(f'Amount you win : £{winnings}')\n",
    "\n",
    "    if p:\n",
    "        print(f'Was it wise to play {yes if winnings>total_cost else no}')\n",
    "    return 1 if winnings>total_cost else 0"
   ]
  },
  {
   "cell_type": "code",
   "execution_count": 78,
   "metadata": {},
   "outputs": [
    {
     "name": "stdout",
     "output_type": "stream",
     "text": [
      "Amount it costs you : £5.0\n",
      "Amount you win : £51.0\n",
      "Was it wise to play Yes\n"
     ]
    }
   ],
   "source": [
    "Games = 100\n",
    "cost_to_play = 0.05\n",
    "\n",
    "_ = game(Games, cost_to_play)"
   ]
  },
  {
   "cell_type": "markdown",
   "metadata": {},
   "source": [
    " - If it costs £0.95 to play?"
   ]
  },
  {
   "cell_type": "code",
   "execution_count": 44,
   "metadata": {},
   "outputs": [
    {
     "name": "stdout",
     "output_type": "stream",
     "text": [
      "Amount it costs you : £95.0\n",
      "Amount you win : £49.0\n",
      "Was it wise to play No\n"
     ]
    }
   ],
   "source": [
    "Games = 100\n",
    "cost_to_play = 0.95\n",
    "\n",
    "_ = game(Games, cost_to_play)"
   ]
  },
  {
   "cell_type": "markdown",
   "metadata": {},
   "source": [
    "## You now own the game\n",
    "### What would you set the sell and buy prices at if I choose whether I want to buy or sell?\n",
    " - If I choose to sell you pay £p to buy and I give you £1 if the outcome is heads\n",
    " - If I choose to buy I pay £p to sell and you give me £1 if the outcome is heads"
   ]
  },
  {
   "cell_type": "markdown",
   "metadata": {},
   "source": [
    "### If you have a belief p in the outcome:\n",
    " - you would be willing to buy at $\\le$ £p\n",
    " - and you would be willing to sell at $\\ge$ £p\n",
    " \n",
    "### This captured our degree of uncertainty about the event taking place (aka $\\textbf{uncertainty}$)"
   ]
  },
  {
   "cell_type": "markdown",
   "metadata": {},
   "source": [
    "# Rational Beliefs\n",
    "## New game with two coins\n",
    " - Betting on the outcome of coin 1 being Heads\n",
    " - Betting on the outcome of coin 2 being Tails\n",
    " \n",
    " - You set the price for coin 1 at £q and for coin 2 at £p\n",
    " - I decide whether to buy or sell\n"
   ]
  },
  {
   "cell_type": "code",
   "execution_count": 69,
   "metadata": {},
   "outputs": [],
   "source": [
    "throws = 100\n",
    "p = 0.4\n",
    "q = 0.4\n"
   ]
  },
  {
   "cell_type": "code",
   "execution_count": 70,
   "metadata": {},
   "outputs": [
    {
     "name": "stdout",
     "output_type": "stream",
     "text": [
      "Will I buy off you True\n",
      "Amount it costs me : £80.0\n",
      "Amount I win : £98.0\n"
     ]
    }
   ],
   "source": [
    "will_i_buy = True if (p+q)<1 else False\n",
    "\n",
    "if will_i_buy:\n",
    "    print(f'Will I buy off you {will_i_buy}')\n",
    "    results1 = np.array([throw(p=False) for _ in range(throws)])\n",
    "    results2 = 1-np.array([throw(p=False) for _ in range(throws)])\n",
    "    \n",
    "    total_cost = throws*(p+q)\n",
    "    print(f'Amount it costs me : £{total_cost}')\n",
    "    \n",
    "    winnings = np.sum(results1) + np.sum(results2)\n",
    "    print(f'Amount I win : £{winnings}')\n",
    "    \n",
    "else:\n",
    "    print(f'Will I buy off you {will_i_buy}')\n"
   ]
  },
  {
   "cell_type": "markdown",
   "metadata": {},
   "source": [
    "### Outcome\n",
    " - If £q + £p is less than £1 then I will always play as there is 50% chance of winning each game\n",
    " - If I play enough times I will win £1 on average from each game, but it costs less than £1 to play\n",
    " - This is called a Dutch book, you are guarenteed to lose money."
   ]
  },
  {
   "cell_type": "markdown",
   "metadata": {},
   "source": [
    "### Set of beliefs is called rational is no Dutch book exists"
   ]
  },
  {
   "cell_type": "markdown",
   "metadata": {},
   "source": [
    "## More formally - Rational beliefs\n",
    " - Define a sample space $\\textbf{X}$ of events\n",
    "  - E.g. flipping two coins $\\textbf{X = {HH, HT, TH, TT}}$\n",
    " - Let $\\textbf{A}$ be an event (a subspace of $\\textbf{X}$)\n",
    "  - If $\\textbf{A}$ holds true at least one outcome occured\n",
    "  - E.g. \"At least on head occured\" $\\leftrightarrow$ $\\textbf{A = {HH, HT, TH}}$\n",
    " - Write $P_A$ for belief of an event\n",
    "  - Your wager on $\\textbf{A}$ (assuming all wagers are unit wagers)\n",
    "\n",
    "#### Sum of probabilities equals 1\n",
    " - Can show that $\\{P_A\\}_{A \\subset X}$ are rational beliefs iff $\\{P_A\\}_{A \\subset X}$ satisfy laws of probability theory\n",
    "\n",
    "### We have just shown that $p_{A} + p_{A^{c}} = 1$\n",
    "\n"
   ]
  },
  {
   "cell_type": "markdown",
   "metadata": {},
   "source": [
    "### In addition, I claim that:\n",
    " - $0 \\leq p_X \\leq 1$\n",
    " - $p_X = 1$\n",
    " - $P_{A \\cup B}$ = $P_A$ + $P_B$\n",
    "\n",
    "#### Back to the game\n",
    " - $p_A > 1$\n",
    " - I sell the bet on a coin flip where you win £1 if the outcome is Heads at $>$ 1"
   ]
  },
  {
   "cell_type": "code",
   "execution_count": 71,
   "metadata": {},
   "outputs": [
    {
     "name": "stdout",
     "output_type": "stream",
     "text": [
      "Amount it costs you : £110.00000000000001\n",
      "Amount you win : £47.0\n",
      "Was it wise to play No\n"
     ]
    }
   ],
   "source": [
    "Games = 100\n",
    "cost_to_play = 1.1\n",
    "\n",
    "_ = game(Games, cost_to_play)"
   ]
  },
  {
   "cell_type": "markdown",
   "metadata": {},
   "source": [
    "#### Back to the game\n",
    " - $p_a < 0$\n",
    " - I buy the bet on a coin flip where you win £1 if the outcome is Heads at $<$ 0\n",
    " - ...\n",
    " - Given the cost is less than £0, you will pay me to play so I am winning even when the coin flip doesn't go my way!"
   ]
  },
  {
   "cell_type": "markdown",
   "metadata": {},
   "source": [
    "#### Back to the game\n",
    " - $p_X > 1$\n",
    " - Your belief that at least one outcome in X holds true\n",
    " - ...\n",
    " - Same as $P_A > 1$ if you belive that at least one outcome holding true is worth $>$ than £1 in a game where the payout is £1 I will sell to you"
   ]
  },
  {
   "cell_type": "markdown",
   "metadata": {},
   "source": [
    "#### Back to the game\n",
    " - $p_X = 1$\n",
    " - Your belief that at least one outcome in X holds true\n",
    " - ...\n",
    " - Same as $P_A < 1$ if you belive that at least one outcome holding true is worth $<$ that £1 in a game where the payout is £1 I will sell to you\n",
    " - At least one outcome must hold. You will lose £1-p"
   ]
  },
  {
   "cell_type": "markdown",
   "metadata": {},
   "source": [
    "#### Back to the game\n",
    " - $P_{A \\cup B}$ = $P_A$ + $P_B$\n",
    " - $P_A$ your price to pay if event A happens\n",
    " - $P_B$ your price to pay if event B happens\n",
    " - $P_{A \\cup B}$ your price to pay if event A or B happens\n",
    " - ...\n",
    " - if $P_{A \\cup B}$ < $P_A$ + $P_B$\n",
    "  - I will sell you A and B and buy A$\\cup$B (two disjoint events) from you"
   ]
  },
  {
   "cell_type": "code",
   "execution_count": 84,
   "metadata": {},
   "outputs": [
    {
     "name": "stdout",
     "output_type": "stream",
     "text": [
      "Amount you owe me : £0.19999999999999996\n"
     ]
    }
   ],
   "source": [
    "Pa = 0.5\n",
    "Pb = 0.5\n",
    "Paub = 0.8\n",
    "\n",
    "if Paub < Pa+Pb:\n",
    "    cost_to_you = Pa + Pb\n",
    "    cost_to_me = Paub\n",
    "    print(f'Amount you owe me : £{cost_to_you-cost_to_me}')\n",
    "else:\n",
    "    print(f'I will not play')\n",
    "\n"
   ]
  },
  {
   "cell_type": "markdown",
   "metadata": {},
   "source": [
    "## All laws of propability follow from these three properties of rational beliefs\n",
    "### $0 \\leq p_A \\leq 1$ $\\>\\>\\>\\>\\>\\>$ $\\forall A \\subset X$\n",
    "### $p_X = 1$\n",
    "### $P_{A \\cup B}$ = $P_A$ + $P_B$\n",
    "\n",
    "### This is known as the Bayesian interpretation of probability theory"
   ]
  },
  {
   "cell_type": "markdown",
   "metadata": {},
   "source": [
    "![title](https://imgs.xkcd.com/comics/frequentists_vs_bayesians.png)"
   ]
  },
  {
   "cell_type": "markdown",
   "metadata": {},
   "source": [
    "# Bayes Rule\n",
    "\n",
    " - To make probability statements about $\\theta$ given $data$ we start with a model providing a joint probability distribution for $\\theta$ and $data$, $p(\\theta, data)$.\n",
    " - This can be rewritten : $p(\\theta, data) = p(data \\mid \\theta) p(\\theta)$ \n",
    " \n",
    "## $p(\\theta \\mid data) = \\dfrac{p(data \\mid \\theta) p(\\theta)}{p(data)}$\n",
    " - Posterior : $p(\\theta \\mid data)$\n",
    " - Likelihood : $p(data \\mid \\theta)$\n",
    " - Prior : $p(\\theta)$\n",
    " - Model Evidence : $p(data)$\n",
    " \n"
   ]
  },
  {
   "cell_type": "markdown",
   "metadata": {},
   "source": [
    "### Example likelihood model is a coin flip\n",
    " - A fair coin gives $\\theta = 0.5$\n",
    " - ...\n",
    " - So what is the probability of generating a particular sample given the model parameters\n",
    " - $Pr(H,H \\mid \\theta = 0.5) = Pr(H \\mid \\theta = 0.5)Pr(H \\mid \\theta = 0.5) = 0.5 * 0.5 = 0.25$"
   ]
  },
  {
   "cell_type": "markdown",
   "metadata": {},
   "source": [
    "### Example prior over parameters for the coin\n",
    " - We may not know that the coin is fair\n",
    " - We could define a prior assigning the same prior belief across all possible parameter values, or\n",
    " - We could define a prior belief more confident the coin is fair"
   ]
  },
  {
   "cell_type": "code",
   "execution_count": 104,
   "metadata": {},
   "outputs": [
    {
     "data": {
      "text/plain": [
       "Text(0.5, 1.0, 'Prior beliefs about the coin')"
      ]
     },
     "execution_count": 104,
     "metadata": {},
     "output_type": "execute_result"
    },
    {
     "data": {
      "image/png": "[encoded data removed]",
      "text/plain": [
       "<Figure size 432x288 with 1 Axes>"
      ]
     },
     "metadata": {
      "needs_background": "light"
     },
     "output_type": "display_data"
    }
   ],
   "source": [
    "x = np.linspace(0, 1, 100)\n",
    "fair_prior = stats.norm.pdf(x, 0.5, 0.15)\n",
    "uniform = np.ones(100)\n",
    "fig, ax = plt.subplots()\n",
    "ax.plot(x, fair_prior, 'r', label='fair prior')\n",
    "ax.plot(x, uniform, 'k', label='uniform prior')\n",
    "ax.legend()\n",
    "ax.set_xlabel('Prbability of throwing a Heads')\n",
    "ax.set_ylabel('Prbability density')\n",
    "ax.set_title('Prior beliefs about the coin')"
   ]
  },
  {
   "cell_type": "markdown",
   "metadata": {},
   "source": [
    "### The evidence \n",
    " - $p(data) = \\int p(data \\mid \\theta) p(\\theta) d \\theta$"
   ]
  },
  {
   "cell_type": "markdown",
   "metadata": {},
   "source": [
    "### The posterior \n",
    " - $p(\\theta \\mid data)$\n",
    " - May want to know the posterior using a uniform prior given before and knowing a coin was flipped 10 times giving 7 heads, or\n",
    " - The coin was flipped 100 times giving 70 heads"
   ]
  },
  {
   "cell_type": "markdown",
   "metadata": {},
   "source": [
    "#### For a coin throwing example the likelihood is calculated using the following equation\n",
    " - $p(data \\mid \\theta) = \\prod _{i} p(y_i \\mid \\theta) = \\theta^{\\#heads} (1-\\theta)^{\\#tails}$"
   ]
  },
  {
   "cell_type": "markdown",
   "metadata": {},
   "source": [
    "### The unnormalized posterior is often used as the model evidence can be difficult to calculate, this is calculated as $p(data \\mid \\theta) p(\\theta)$"
   ]
  },
  {
   "cell_type": "markdown",
   "metadata": {},
   "source": [
    "#### Unnormlaized posterior calculation"
   ]
  },
  {
   "cell_type": "code",
   "execution_count": 169,
   "metadata": {},
   "outputs": [],
   "source": [
    "def calc_posterior(theta, num_heads, num_throws, prior, normalize = True):\n",
    "    ## Likelihood calculation\n",
    "    likelihood = np.power(theta,num_heads) * np.power((1-theta),(num_throws-num_heads))\n",
    "    if normalize:\n",
    "        ## Normalizing\n",
    "        normalizing = (math.factorial(num_heads) * math.factorial(num_throws-num_heads)) / math.factorial(num_throws+1)\n",
    "        ## Posterior density calculation\n",
    "        posterior = likelihood * prior / normalizing\n",
    "    else:\n",
    "        posterior = likelihood * prior\n",
    "    return posterior"
   ]
  },
  {
   "cell_type": "code",
   "execution_count": 170,
   "metadata": {},
   "outputs": [],
   "source": [
    "## Prior calculation\n",
    "prior = np.ones(100) #Uniform"
   ]
  },
  {
   "cell_type": "code",
   "execution_count": 179,
   "metadata": {},
   "outputs": [],
   "source": [
    "## Data\n",
    "x = np.linspace(0, 1, 100)\n",
    "num_heads = 7\n",
    "num_throws = 10\n",
    "\n",
    "## Get posterios\n",
    "posterior7 = calc_posterior(theta=x, num_heads=num_heads, num_throws=num_throws, prior=prior, normalize=False)"
   ]
  },
  {
   "cell_type": "code",
   "execution_count": 180,
   "metadata": {},
   "outputs": [],
   "source": [
    "## Data\n",
    "x = np.linspace(0, 1, 100)\n",
    "num_heads = 70\n",
    "num_throws = 100\n",
    "\n",
    "posterior70 = calc_posterior(theta=x, num_heads=num_heads, num_throws=num_throws, prior=prior, normalize=False)"
   ]
  },
  {
   "cell_type": "code",
   "execution_count": 181,
   "metadata": {},
   "outputs": [
    {
     "data": {
      "text/plain": [
       "Text(0, 0.5, 'Unnormalized Posterior densityy')"
      ]
     },
     "execution_count": 181,
     "metadata": {},
     "output_type": "execute_result"
    },
    {
     "data": {
      "image/png": "[encoded data removed]",
      "text/plain": [
       "<Figure size 432x288 with 1 Axes>"
      ]
     },
     "metadata": {
      "needs_background": "light"
     },
     "output_type": "display_data"
    }
   ],
   "source": [
    "fig, ax = plt.subplots()\n",
    "ax.plot(x, posterior7, 'k', label='7 / 10')\n",
    "ax.plot(x, posterior70, 'r', label='70 / 100')\n",
    "ax.legend()\n",
    "ax.set_xlabel(r'Prbability of throwing a Heads, $\\theta$')\n",
    "ax.set_ylabel(r'Unnormalized Posterior densityy')\n",
    "# ax.set_title('Posterior density')"
   ]
  },
  {
   "cell_type": "markdown",
   "metadata": {},
   "source": [
    "#### Normlaized posterior calculation \n",
    " - The model choice made allows for the normalizing constant (the model evidence) to be calculated"
   ]
  },
  {
   "cell_type": "code",
   "execution_count": 174,
   "metadata": {},
   "outputs": [],
   "source": [
    "## Prior calculation\n",
    "prior = np.ones(100) #Uniform"
   ]
  },
  {
   "cell_type": "code",
   "execution_count": 175,
   "metadata": {},
   "outputs": [],
   "source": [
    "## Data\n",
    "x = np.linspace(0, 1, 100)\n",
    "num_heads = 7\n",
    "num_throws = 10\n",
    "\n",
    "## Get posterios\n",
    "posterior7 = calc_posterior(theta=x, num_heads=num_heads, num_throws=num_throws, prior=prior, normalize=True)"
   ]
  },
  {
   "cell_type": "code",
   "execution_count": 176,
   "metadata": {},
   "outputs": [],
   "source": [
    "## Data\n",
    "x = np.linspace(0, 1, 100)\n",
    "num_heads = 70\n",
    "num_throws = 100\n",
    "\n",
    "posterior70 = calc_posterior(theta=x, num_heads=num_heads, num_throws=num_throws, prior=prior, normalize=True)"
   ]
  },
  {
   "cell_type": "code",
   "execution_count": 177,
   "metadata": {},
   "outputs": [
    {
     "data": {
      "text/plain": [
       "Text(0, 0.5, 'Posterior densityy')"
      ]
     },
     "execution_count": 177,
     "metadata": {},
     "output_type": "execute_result"
    },
    {
     "data": {
      "image/png": "[encoded data removed]",
      "text/plain": [
       "<Figure size 432x288 with 1 Axes>"
      ]
     },
     "metadata": {
      "needs_background": "light"
     },
     "output_type": "display_data"
    }
   ],
   "source": [
    "fig, ax = plt.subplots()\n",
    "ax.plot(x, posterior7, 'k', label='7 / 10')\n",
    "ax.plot(x, posterior70, 'r', label='70 / 100')\n",
    "ax.legend()\n",
    "ax.set_xlabel(r'Prbability of throwing a Heads, $\\theta$')\n",
    "ax.set_ylabel(r'Posterior densityy')\n",
    "# ax.set_title('Posterior density')"
   ]
  },
  {
   "cell_type": "code",
   "execution_count": null,
   "metadata": {},
   "outputs": [],
   "source": []
  }
 ],
 "metadata": {
  "kernelspec": {
   "display_name": "Python 3",
   "language": "python",
   "name": "python3"
  },
  "language_info": {
   "codemirror_mode": {
    "name": "ipython",
    "version": 3
   },
   "file_extension": ".py",
   "mimetype": "text/x-python",
   "name": "python",
   "nbconvert_exporter": "python",
   "pygments_lexer": "ipython3",
   "version": "3.6.9"
  }
 },
 "nbformat": 4,
 "nbformat_minor": 2
}
