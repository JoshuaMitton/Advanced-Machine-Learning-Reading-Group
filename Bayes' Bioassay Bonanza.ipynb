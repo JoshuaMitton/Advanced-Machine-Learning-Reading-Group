{
 "cells": [
  {
   "cell_type": "code",
   "execution_count": 1,
   "metadata": {},
   "outputs": [],
   "source": [
    "import numpy as np\n",
    "#import pymc3\n",
    "import pandas as pd\n",
    "import matplotlib.pyplot as plt\n",
    "#import seaborn"
   ]
  },
  {
   "cell_type": "code",
   "execution_count": null,
   "metadata": {},
   "outputs": [],
   "source": [
    "# http://www.inference.org.uk/mackay/erice.pdf\n",
    "# https://arxiv.org/pdf/1701.02434.pdf\n",
    "# https://www.jstor.org/stable/pdf/2347264.pdf"
   ]
  },
  {
   "cell_type": "markdown",
   "metadata": {},
   "source": [
    "# 3.7 Example: analysis of a bioassay experiment"
   ]
  },
  {
   "cell_type": "markdown",
   "metadata": {},
   "source": [
    "\"Acute toxicity tests are a well-established part of the process of attempting to quantify the toxic potential of a chemical substance. Typically, such a test proceeds by administering various dose levels of the substance to batches of animals and subsequently observing their responses. The latter are most often characterized in terms of a simple dichotomy: for example, alive or dead.<br>\n",
    "An experiment of this kind can be summarized in terms of the triples {$x_i, n_i, r_i; i=1...k$} where $x_i$, the ith of k dose levels (on the log-scale) is administered to ni animals, ri of which subsequently \"responds\".<br>\n",
    "The analysis of such experiments traditionally proceeds by specifying a mathematical function relating the probability of response to the dose level and then estimating the unknown parameters of the model using the summary statistics provided by the triples.\n",
    "<br>...<br>\n",
    "The parametric function of main interest is usually taken to be the LD50; the unknown dose level at which the probability of response is equal to one-half. In more colloquial terms, the LD50 is the dose level at which 50% of the animals exposed to the substance are expected to die.\" \n",
    "<br>- Racine et al (1986)"
   ]
  },
  {
   "cell_type": "code",
   "execution_count": 2,
   "metadata": {},
   "outputs": [
    {
     "data": {
      "text/html": [
       "<div>\n",
       "<style scoped>\n",
       "    .dataframe tbody tr th:only-of-type {\n",
       "        vertical-align: middle;\n",
       "    }\n",
       "\n",
       "    .dataframe tbody tr th {\n",
       "        vertical-align: top;\n",
       "    }\n",
       "\n",
       "    .dataframe thead th {\n",
       "        text-align: right;\n",
       "    }\n",
       "</style>\n",
       "<table border=\"1\" class=\"dataframe\">\n",
       "  <thead>\n",
       "    <tr style=\"text-align: right;\">\n",
       "      <th></th>\n",
       "      <th>Dose (x)</th>\n",
       "      <th>trials (n)</th>\n",
       "      <th>deaths (y)</th>\n",
       "    </tr>\n",
       "  </thead>\n",
       "  <tbody>\n",
       "    <tr>\n",
       "      <th>0</th>\n",
       "      <td>-0.86</td>\n",
       "      <td>5.0</td>\n",
       "      <td>0.0</td>\n",
       "    </tr>\n",
       "    <tr>\n",
       "      <th>1</th>\n",
       "      <td>-0.30</td>\n",
       "      <td>5.0</td>\n",
       "      <td>1.0</td>\n",
       "    </tr>\n",
       "    <tr>\n",
       "      <th>2</th>\n",
       "      <td>-0.05</td>\n",
       "      <td>5.0</td>\n",
       "      <td>3.0</td>\n",
       "    </tr>\n",
       "    <tr>\n",
       "      <th>3</th>\n",
       "      <td>0.73</td>\n",
       "      <td>5.0</td>\n",
       "      <td>5.0</td>\n",
       "    </tr>\n",
       "  </tbody>\n",
       "</table>\n",
       "</div>"
      ],
      "text/plain": [
       "   Dose (x)  trials (n)  deaths (y)\n",
       "0     -0.86         5.0         0.0\n",
       "1     -0.30         5.0         1.0\n",
       "2     -0.05         5.0         3.0\n",
       "3      0.73         5.0         5.0"
      ]
     },
     "execution_count": 2,
     "metadata": {},
     "output_type": "execute_result"
    }
   ],
   "source": [
    "doses = np.array([-0.86, -0.3, -0.05, 0.73])\n",
    "trials = np.array([5, 5, 5, 5])\n",
    "deaths = np.array([0, 1, 3, 5])\n",
    "\n",
    "data = pd.DataFrame(np.array([doses, trials, deaths]).T, columns=['Dose (x)', 'trials (n)', 'deaths (y)'])\n",
    "data"
   ]
  },
  {
   "cell_type": "markdown",
   "metadata": {},
   "source": [
    "#### The data points $y_i$ are binomially distributed\n",
    "\"We must model the outcomes of the five animals within each group i as exchangeable, and it seems reasonable to model them as independent with equal probabilities, which implies that the data points $y_i$ are binomially distributed\"\n",
    "### <center>$y_i|\\theta_i\\sim Bin(n_i, \\theta_i)$</center>"
   ]
  },
  {
   "cell_type": "markdown",
   "metadata": {},
   "source": [
    "#### The simplest model of the dose–response relation is linear\n",
    "### <center>$\\theta_i = \\alpha + \\beta x_i$</center>\n",
    "\"Unfortunately, this model has the flaw that at low or high doses, $x_i$ approaches $\\pm\\infty$ (recall that the dose is measured on the log scale), whereas $\\theta_i$, being a probability, must be constrained to lie between 0 and 1. The standard solution is to use a transformation of the $\\theta$’s, such as the logistic:\""
   ]
  },
  {
   "cell_type": "markdown",
   "metadata": {},
   "source": [
    "### <center>$logit(\\theta_i)=\\alpha+\\beta x_i$</center>"
   ]
  },
  {
   "cell_type": "code",
   "execution_count": 44,
   "metadata": {},
   "outputs": [],
   "source": [
    "def logit(theta):\n",
    "    return np.log(theta / (1-theta))\n",
    "\n",
    "def inv_logit(theta):\n",
    "    return np.exp(theta) / (1 + np.exp(theta))"
   ]
  },
  {
   "cell_type": "code",
   "execution_count": 8,
   "metadata": {},
   "outputs": [
    {
     "data": {
      "image/png": "[encoded data removed]",
      "text/plain": [
       "<Figure size 432x288 with 1 Axes>"
      ]
     },
     "metadata": {
      "needs_background": "light"
     },
     "output_type": "display_data"
    },
    {
     "data": {
      "image/png": "[encoded data removed]",
      "text/plain": [
       "<Figure size 432x288 with 1 Axes>"
      ]
     },
     "metadata": {
      "needs_background": "light"
     },
     "output_type": "display_data"
    }
   ],
   "source": [
    "x = np.linspace(-1, 1, 500)\n",
    "plt.grid(True)\n",
    "plt.plot(x, logit(x))\n",
    "plt.show()\n",
    "x = np.linspace(-10, 10, 500)\n",
    "plt.grid(True)\n",
    "plt.plot(x, inv_logit(x))\n",
    "plt.show()"
   ]
  },
  {
   "cell_type": "markdown",
   "metadata": {},
   "source": [
    "#### We can write the sampling distribution, or likelihood, for each group i in terms of the parameters α and β as\n",
    "### <center>$p(y_i|\\alpha,\\beta,n_i,x_i)\\propto[logit^{-1} (\\alpha+\\beta x_i)]^{y_i}[1-logit^{-1}(\\alpha+\\beta x_i)]^{n_i-y_i}$</center>"
   ]
  },
  {
   "cell_type": "markdown",
   "metadata": {},
   "source": [
    "#### The model is characterized by the parameters α and β, whose joint posterior distribution is\n",
    "### <center>$p(\\alpha,\\beta|y,n,x)\\propto p(\\alpha,\\beta|n,x)p(y|\\alpha,\\beta,n,x)$<br><br>$\\propto p(\\alpha,\\beta)\\Pi^k_{i=i}p(y_i|\\alpha,\\beta,n_i,x_i)$</center>"
   ]
  },
  {
   "cell_type": "code",
   "execution_count": 4,
   "metadata": {},
   "outputs": [],
   "source": [
    "def liklihood(a, b):\n",
    "    l = np.power(inv_logit(a + b * doses), deaths) * np.power(1 - inv_logit(a + b * doses), trials-deaths)\n",
    "    # note: we are intersted in liklihood for a and b, not y so need to take product of all p(a,b)\n",
    "    return np.product(l)"
   ]
  },
  {
   "cell_type": "markdown",
   "metadata": {},
   "source": [
    "## The prior distribution\n",
    "### <center>$p(\\alpha,\\beta)\\propto 1$</center>"
   ]
  },
  {
   "cell_type": "markdown",
   "metadata": {},
   "source": [
    "We will compute the joint posterior distribution at a grid of points (α, β), but before doing so, it is a good idea to get a rough estimate of (α, β) so we know where to look."
   ]
  },
  {
   "cell_type": "code",
   "execution_count": 231,
   "metadata": {},
   "outputs": [],
   "source": [
    "from sklearn.linear_model import LinearRegression"
   ]
  },
  {
   "cell_type": "code",
   "execution_count": 41,
   "metadata": {},
   "outputs": [
    {
     "name": "stderr",
     "output_type": "stream",
     "text": [
      "C:\\Users\\Roddy\\Anaconda3\\envs\\mlstuff\\lib\\site-packages\\sklearn\\linear_model\\logistic.py:433: FutureWarning: Default solver will be changed to 'lbfgs' in 0.22. Specify a solver to silence this warning.\n",
      "  FutureWarning)\n",
      "C:\\Users\\Roddy\\Anaconda3\\envs\\mlstuff\\lib\\site-packages\\sklearn\\linear_model\\logistic.py:460: FutureWarning: Default multi_class will be changed to 'auto' in 0.22. Specify the multi_class option to silence this warning.\n",
      "  \"this warning.\", FutureWarning)\n"
     ]
    }
   ],
   "source": []
  },
  {
   "cell_type": "code",
   "execution_count": 232,
   "metadata": {},
   "outputs": [
    {
     "ename": "NameError",
     "evalue": "name 'bias' is not defined",
     "output_type": "error",
     "traceback": [
      "\u001b[1;31m---------------------------------------------------------------------------\u001b[0m",
      "\u001b[1;31mNameError\u001b[0m                                 Traceback (most recent call last)",
      "\u001b[1;32m<ipython-input-232-887bb2a982a0>\u001b[0m in \u001b[0;36m<module>\u001b[1;34m\u001b[0m\n\u001b[1;32m----> 1\u001b[1;33m \u001b[0mclf\u001b[0m \u001b[1;33m=\u001b[0m \u001b[0mLinearRegression\u001b[0m\u001b[1;33m(\u001b[0m\u001b[1;33m)\u001b[0m\u001b[1;33m.\u001b[0m\u001b[0mfit\u001b[0m\u001b[1;33m(\u001b[0m\u001b[0mnp\u001b[0m\u001b[1;33m.\u001b[0m\u001b[0marray\u001b[0m\u001b[1;33m(\u001b[0m\u001b[1;33m[\u001b[0m\u001b[0mbias\u001b[0m\u001b[1;33m,\u001b[0m \u001b[0mdoses\u001b[0m\u001b[1;33m]\u001b[0m\u001b[1;33m)\u001b[0m\u001b[1;33m.\u001b[0m\u001b[0mT\u001b[0m\u001b[1;33m,\u001b[0m \u001b[0mdeaths\u001b[0m\u001b[1;33m/\u001b[0m\u001b[1;36m5\u001b[0m\u001b[1;33m)\u001b[0m\u001b[1;33m\u001b[0m\u001b[1;33m\u001b[0m\u001b[0m\n\u001b[0m\u001b[0;32m      2\u001b[0m \u001b[0mclf\u001b[0m\u001b[1;33m.\u001b[0m\u001b[0mcoef_\u001b[0m\u001b[1;33m\u001b[0m\u001b[1;33m\u001b[0m\u001b[0m\n",
      "\u001b[1;31mNameError\u001b[0m: name 'bias' is not defined"
     ]
    }
   ],
   "source": [
    "clf = LinearRegression().fit(np.array([bias, doses]).T, deaths/5)\n",
    "clf.coef_"
   ]
  },
  {
   "cell_type": "code",
   "execution_count": 47,
   "metadata": {},
   "outputs": [
    {
     "data": {
      "text/plain": [
       "4"
      ]
     },
     "execution_count": 47,
     "metadata": {},
     "output_type": "execute_result"
    }
   ],
   "source": []
  },
  {
   "cell_type": "code",
   "execution_count": 15,
   "metadata": {},
   "outputs": [],
   "source": [
    "ahat, bhat = 0.8, 7.7"
   ]
  },
  {
   "cell_type": "markdown",
   "metadata": {},
   "source": [
    "We are now ready to compute the posterior density at a grid of points (α, β). After some experimentation, we use the range (α, β) ∈ [−5, 10] × [−10, 40], which captures almost all the mass of the posterior distribution"
   ]
  },
  {
   "cell_type": "code",
   "execution_count": 5,
   "metadata": {},
   "outputs": [],
   "source": [
    "alpha_range = np.linspace(start=-5, stop=10, num=50)\n",
    "beta_range = np.linspace(start=-10, stop=40, num=50)"
   ]
  },
  {
   "cell_type": "code",
   "execution_count": null,
   "metadata": {},
   "outputs": [],
   "source": []
  },
  {
   "cell_type": "code",
   "execution_count": 45,
   "metadata": {},
   "outputs": [],
   "source": [
    "grid = np.zeros((len(alpha_range), len(beta_range)))\n",
    "for i, a in enumerate(alpha_range):\n",
    "    for j, b in enumerate(beta_range):\n",
    "        grid[i][j] = liklihood(a, b)"
   ]
  },
  {
   "cell_type": "code",
   "execution_count": 46,
   "metadata": {},
   "outputs": [
    {
     "data": {
      "image/png": "[encoded data removed]",
      "text/plain": [
       "<Figure size 432x288 with 1 Axes>"
      ]
     },
     "metadata": {
      "needs_background": "light"
     },
     "output_type": "display_data"
    }
   ],
   "source": [
    "x, y = np.meshgrid(alpha_range, beta_range)\n",
    "z = grid\n",
    "plt.figure()\n",
    "cp = plt.contourf(x, y, z)\n",
    "plt.xlabel('alpha')\n",
    "plt.ylabel('beta')\n",
    "plt.show()"
   ]
  },
  {
   "cell_type": "markdown",
   "metadata": {},
   "source": [
    "### Sampling from the joint posterior distribution"
   ]
  },
  {
   "cell_type": "markdown",
   "metadata": {},
   "source": [
    "Having computed the unnormalized posterior density at a grid of values that cover the effective range of (α, β), we can normalize by approximating the distribution as a step function over the grid and setting the total probability in the grid to 1."
   ]
  },
  {
   "cell_type": "code",
   "execution_count": 222,
   "metadata": {},
   "outputs": [],
   "source": [
    "grid = grid/np.sum(grid)"
   ]
  },
  {
   "cell_type": "markdown",
   "metadata": {},
   "source": [
    "#### We sample 1000 random draws $(\\alpha^s,\\beta^s)$ from the posterior distribution using the following procedure."
   ]
  },
  {
   "cell_type": "markdown",
   "metadata": {},
   "source": [
    "<b>\n",
    "1. Compute the marginal posterior distribution of α by numerically summing over β in the discrete distribution computed on the grid\n",
    "</b>"
   ]
  },
  {
   "cell_type": "code",
   "execution_count": 223,
   "metadata": {},
   "outputs": [
    {
     "data": {
      "text/plain": [
       "[<matplotlib.lines.Line2D at 0x22c7f4f5ef0>]"
      ]
     },
     "execution_count": 223,
     "metadata": {},
     "output_type": "execute_result"
    },
    {
     "data": {
      "image/png": "[encoded data removed]",
      "text/plain": [
       "<Figure size 432x288 with 1 Axes>"
      ]
     },
     "metadata": {
      "needs_background": "light"
     },
     "output_type": "display_data"
    }
   ],
   "source": [
    "marg_post_a = np.zeros(len(alpha_range))\n",
    "for i in range(len(marg_post_a)):\n",
    "    marg_post_a[i] = np.sum(grid[i][:])\n",
    "plt.grid(True)\n",
    "plt.plot(alpha_range, marg_post_a)"
   ]
  },
  {
   "cell_type": "markdown",
   "metadata": {},
   "source": [
    "<b>\n",
    "2. For s = 1, . . . , 1000:<br>\n",
    "(a) Draw $\\alpha^s$ from the discretely computed $p(\\alpha|y)$. This can be viewed as a discrete version of the inverse cdf method\n",
    "</b>"
   ]
  },
  {
   "cell_type": "markdown",
   "metadata": {},
   "source": [
    "The cumulative distribution function, or cdf, $F$, of a one-dimensional distribution, $p(v)$, is defined by:<br>\n",
    "### <center>$F(v_*) = Pr(v\\leq v_*)$ <br>$=\\Sigma_{v\\leq v_*}p(v)$</center>\n",
    "The inverse cdf can be used to obtain random samples from the distribution $p$, as follows. First draw a random value, $U$, from the uniform distribution on [0, 1] ... Now let $v = F^−1(U)$. The function $F$ is not necessarily one-to-one—certainly not if the distribution is discrete — but $F^{−1}(U)$ is unique with probability 1. The value v will be a random draw from p, and is easy to compute as long as $F^{−1}(U)$ is simple.\n"
   ]
  },
  {
   "cell_type": "code",
   "execution_count": 224,
   "metadata": {},
   "outputs": [
    {
     "data": {
      "image/png": "[encoded data removed]",
      "text/plain": [
       "<Figure size 432x288 with 1 Axes>"
      ]
     },
     "metadata": {
      "needs_background": "light"
     },
     "output_type": "display_data"
    }
   ],
   "source": [
    "cdf_a = np.cumsum(marg_post_a)\n",
    "\n",
    "plt.plot(alpha_range, cdf_a)\n",
    "plt.title('cdf of alpha in the domain [-5, 10]')\n",
    "plt.grid(True)\n",
    "plt.show()"
   ]
  },
  {
   "cell_type": "code",
   "execution_count": 225,
   "metadata": {},
   "outputs": [
    {
     "data": {
      "text/plain": [
       "-0.7142857142857144"
      ]
     },
     "execution_count": 225,
     "metadata": {},
     "output_type": "execute_result"
    }
   ],
   "source": [
    "U = np.random.uniform(0,1)\n",
    "vi = np.argmin(np.abs(cdf_a - U))\n",
    "v = alpha_range[vi]\n",
    "v"
   ]
  },
  {
   "cell_type": "markdown",
   "metadata": {},
   "source": [
    "<b>\n",
    "    (b) Draw $\\beta^s$ from the discrete conditional distribution, $p(\\beta|\\alpha,y)$, given the just-sampled\n",
    "value of α.\n",
    "    </b>"
   ]
  },
  {
   "cell_type": "code",
   "execution_count": 226,
   "metadata": {},
   "outputs": [
    {
     "data": {
      "image/png": "[encoded data removed]",
      "text/plain": [
       "<Figure size 432x288 with 1 Axes>"
      ]
     },
     "metadata": {
      "needs_background": "light"
     },
     "output_type": "display_data"
    },
    {
     "data": {
      "image/png": "[encoded data removed]",
      "text/plain": [
       "<Figure size 432x288 with 1 Axes>"
      ]
     },
     "metadata": {
      "needs_background": "light"
     },
     "output_type": "display_data"
    }
   ],
   "source": [
    "p_beta = grid[vi][:]\n",
    "p_beta = p_beta/np.sum(p_beta)\n",
    "plt.plot(beta_range, p_beta)\n",
    "plt.grid(True)\n",
    "plt.title('p(b)')\n",
    "plt.show()\n",
    "\n",
    "cdf_b = np.cumsum(p_beta)\n",
    "plt.plot(beta_range, cdf_b)\n",
    "plt.grid(True)\n",
    "plt.title('cdf')\n",
    "plt.show()"
   ]
  },
  {
   "cell_type": "code",
   "execution_count": 211,
   "metadata": {},
   "outputs": [
    {
     "data": {
      "text/plain": [
       "15.510204081632654"
      ]
     },
     "execution_count": 211,
     "metadata": {},
     "output_type": "execute_result"
    }
   ],
   "source": [
    "U = np.random.uniform(0,1)\n",
    "wi = np.argmin(np.abs(cdf_b - U))\n",
    "w = beta_range[wi]\n",
    "w"
   ]
  },
  {
   "cell_type": "code",
   "execution_count": null,
   "metadata": {},
   "outputs": [],
   "source": []
  },
  {
   "cell_type": "markdown",
   "metadata": {},
   "source": [
    "<b>\n",
    "(c) For each of the sampled α and β, add a uniform random jitter centered at zero with a width equal to the spacing of the sampling grid. This gives the simulation draws a continuous distribution.\n",
    "</b>"
   ]
  },
  {
   "cell_type": "code",
   "execution_count": 227,
   "metadata": {},
   "outputs": [
    {
     "name": "stdout",
     "output_type": "stream",
     "text": [
      "-0.7142857142857144 8.997123618013406\n",
      "-0.5172161416053447 9.11845712882635\n"
     ]
    }
   ],
   "source": [
    "aspace = 15/50\n",
    "bspace = 50/50\n",
    "print(v, w)\n",
    "v += np.random.uniform(-aspace, aspace)\n",
    "w += np.random.uniform(-bspace, bspace)\n",
    "print(v, w)"
   ]
  },
  {
   "cell_type": "markdown",
   "metadata": {},
   "source": [
    "#### Now do it 1000 times and plot results"
   ]
  },
  {
   "cell_type": "code",
   "execution_count": 256,
   "metadata": {},
   "outputs": [
    {
     "data": {
      "text/plain": [
       "<matplotlib.collections.PathCollection at 0x22c018737f0>"
      ]
     },
     "execution_count": 256,
     "metadata": {},
     "output_type": "execute_result"
    },
    {
     "data": {
      "image/png": "[encoded data removed]",
      "text/plain": [
       "<Figure size 432x288 with 1 Axes>"
      ]
     },
     "metadata": {
      "needs_background": "light"
     },
     "output_type": "display_data"
    }
   ],
   "source": [
    "a_draws = []\n",
    "b_draws = []\n",
    "\n",
    "for _ in range(1000):\n",
    "    U = np.random.uniform(0,1)\n",
    "    vi = np.argmin(np.abs(cdf_a - U))\n",
    "    v = alpha_range[vi]\n",
    "    \n",
    "    p_beta = grid[vi][:]\n",
    "    p_beta = p_beta/np.sum(p_beta)\n",
    "    cdf_b = np.cumsum(p_beta)\n",
    "    \n",
    "    U = np.random.uniform(0,1)\n",
    "    wi = np.argmin(np.abs(cdf_b - U))\n",
    "    w = beta_range[wi]\n",
    "    \n",
    "    v += np.random.uniform(-aspace, aspace)\n",
    "    w += np.random.uniform(-bspace, bspace)\n",
    "    \n",
    "    a_draws.append(v)\n",
    "    b_draws.append(w)\n",
    "\n",
    "plt.scatter(a_draws, b_draws, s=1.5)"
   ]
  },
  {
   "cell_type": "code",
   "execution_count": 244,
   "metadata": {},
   "outputs": [
    {
     "data": {
      "image/png": "[encoded data removed]",
      "text/plain": [
       "<Figure size 432x288 with 1 Axes>"
      ]
     },
     "metadata": {
      "needs_background": "light"
     },
     "output_type": "display_data"
    },
    {
     "data": {
      "image/png": "[encoded data removed]",
      "text/plain": [
       "<Figure size 432x288 with 1 Axes>"
      ]
     },
     "metadata": {
      "needs_background": "light"
     },
     "output_type": "display_data"
    }
   ],
   "source": [
    "plt.hist(a_draws, bins=50)\n",
    "plt.title('alpha')\n",
    "plt.show()\n",
    "plt.hist(b_draws, bins=50)\n",
    "plt.title('beta')\n",
    "plt.show()"
   ]
  },
  {
   "cell_type": "markdown",
   "metadata": {},
   "source": [
    "### The posterior distribution of the LD50"
   ]
  },
  {
   "cell_type": "markdown",
   "metadata": {},
   "source": [
    "A parameter of common interest in bioassay studies is the LD50—the dose level at which the probability of death is 50%. In our logistic model, a 50% survival rate means:\n",
    "$$LD50 = $$\n",
    "thus, $\\alpha + \\beta x_i = logit(0.5) = 0$, and the LD50 is $x_i = -\\alpha/\\beta$<br>\n",
    "Computing the posterior distribution of any summaries in the Bayesian approach is straightforward ... Given what we have done so far, simulating the posterior distribution of the LD50 is trivial: we just compute −α/β for the 1000 draws of (α, β)"
   ]
  },
  {
   "cell_type": "code",
   "execution_count": 63,
   "metadata": {},
   "outputs": [
    {
     "ename": "NameError",
     "evalue": "name 'a_draws' is not defined",
     "output_type": "error",
     "traceback": [
      "\u001b[1;31m---------------------------------------------------------------------------\u001b[0m",
      "\u001b[1;31mNameError\u001b[0m                                 Traceback (most recent call last)",
      "\u001b[1;32m<ipython-input-63-75a9c23eb219>\u001b[0m in \u001b[0;36m<module>\u001b[1;34m\u001b[0m\n\u001b[0;32m      9\u001b[0m     \u001b[0mplt\u001b[0m\u001b[1;33m.\u001b[0m\u001b[0mshow\u001b[0m\u001b[1;33m(\u001b[0m\u001b[1;33m)\u001b[0m\u001b[1;33m\u001b[0m\u001b[1;33m\u001b[0m\u001b[0m\n\u001b[0;32m     10\u001b[0m \u001b[1;33m\u001b[0m\u001b[0m\n\u001b[1;32m---> 11\u001b[1;33m \u001b[0mcomp_ld50\u001b[0m\u001b[1;33m(\u001b[0m\u001b[0ma_draws\u001b[0m\u001b[1;33m,\u001b[0m \u001b[0mb_draws\u001b[0m\u001b[1;33m)\u001b[0m\u001b[1;33m\u001b[0m\u001b[1;33m\u001b[0m\u001b[0m\n\u001b[0m",
      "\u001b[1;31mNameError\u001b[0m: name 'a_draws' is not defined"
     ]
    }
   ],
   "source": [
    "def comp_ld50(a_draws, b_draws):\n",
    "    ld50 = []\n",
    "    for i in range(len(a_draws)):\n",
    "        e = -1.0 * a_draws[i] / b_draws[i]\n",
    "        ld50.append(e)\n",
    "\n",
    "    print('LD50:', int(np.exp(-np.mean(ld50))*1000), 'mg/ml')\n",
    "    plt.hist(np.exp(np.array(ld50)* -1)*1000, bins=50)\n",
    "    plt.show()\n",
    "\n",
    "comp_ld50(a_draws, b_draws)"
   ]
  },
  {
   "cell_type": "code",
   "execution_count": null,
   "metadata": {},
   "outputs": [],
   "source": []
  },
  {
   "cell_type": "markdown",
   "metadata": {},
   "source": [
    "### Exercice 3.11\n",
    "\n",
    "In the bioassay example, replace the uniform prior density by a joint normal prior distribution on (α, β), with α ∼ N(0, 22), β ∼ N(10, 102), and corr(α, β)=0.5. <br>\n",
    "(a) Repeat all the computations and plots of Section 3.7 with this new prior distribution. <br>\n",
    "(b) Check that your contour plot and scatterplot look like a compromise between the prior distribution and the likelihood. <br>\n",
    "(c) Discuss the effect of this hypothetical prior information on the conclusions in the\n",
    "applied context."
   ]
  },
  {
   "cell_type": "code",
   "execution_count": null,
   "metadata": {},
   "outputs": [],
   "source": []
  },
  {
   "cell_type": "code",
   "execution_count": null,
   "metadata": {},
   "outputs": [],
   "source": []
  },
  {
   "cell_type": "markdown",
   "metadata": {},
   "source": [
    "### Markov methods\n",
    "\"Markov chain simulation (also called Markov chain Monte Carlo, or MCMC) is a general method based on drawing values of θ from approximate distributions and then correcting those draws to better approximate the target posterior distribution. ... The key to the method’s success is that the approximate distributions are improved at each step in the simulation, in the sense of converging to the target distribution.\"\n"
   ]
  },
  {
   "cell_type": "markdown",
   "metadata": {},
   "source": []
  },
  {
   "cell_type": "code",
   "execution_count": null,
   "metadata": {},
   "outputs": [],
   "source": []
  },
  {
   "cell_type": "code",
   "execution_count": null,
   "metadata": {},
   "outputs": [],
   "source": []
  },
  {
   "cell_type": "code",
   "execution_count": 2,
   "metadata": {},
   "outputs": [],
   "source": [
    "import pystan"
   ]
  },
  {
   "cell_type": "code",
   "execution_count": null,
   "metadata": {},
   "outputs": [],
   "source": []
  },
  {
   "cell_type": "code",
   "execution_count": 6,
   "metadata": {},
   "outputs": [],
   "source": [
    "import pymc3 as pm"
   ]
  },
  {
   "cell_type": "code",
   "execution_count": 15,
   "metadata": {},
   "outputs": [
    {
     "name": "stderr",
     "output_type": "stream",
     "text": [
      "INFO:pymc3:Auto-assigning NUTS sampler...\n",
      "INFO:pymc3:Initializing NUTS using jitter+adapt_diag...\n",
      "INFO:pymc3:Multiprocess sampling (4 chains in 4 jobs)\n",
      "INFO:pymc3:NUTS: [beta, alpha]\n",
      "Sampling 4 chains: 100%|██████████████| 8000/8000 [00:05<00:00, 1481.06draws/s]\n"
     ]
    }
   ],
   "source": [
    "with pm.Model() as model:\n",
    "#     alpha = pm.Normal('alpha', mu=0, sd=100)\n",
    "#     beta = pm.Normal('beta', mu=0, sd=1)\n",
    "    alpha = pm.Uniform()\n",
    "    theta = pm.Deterministic('theta', inv_logit(alpha + beta * doses))\n",
    "    deaths = pm.Binomial('deaths', n=trials, p=theta, observed=[0, 1, 3, 5])\n",
    "    \n",
    "n=1000\n",
    "with model:\n",
    "    pm.sample(n, tune=1000)"
   ]
  },
  {
   "cell_type": "code",
   "execution_count": null,
   "metadata": {},
   "outputs": [],
   "source": []
  },
  {
   "cell_type": "code",
   "execution_count": 13,
   "metadata": {},
   "outputs": [
    {
     "data": {
      "text/latex": [
       "$$\n",
       "            \\begin{array}{rcl}\n",
       "            \\text{alpha} &\\sim & \\text{Normal}(\\mathit{mu}=0,~\\mathit{sd}=1.0)\\\\\\text{beta} &\\sim & \\text{Normal}(\\mathit{mu}=0,~\\mathit{sd}=1.0)\\\\\\text{theta} &\\sim & \\text{Deterministic}(\\text{alpha},~\\text{beta},~\\text{Constant},~\\text{Constant},~\\text{alpha},~\\text{beta},~\\text{Constant})\\\\\\text{deaths} &\\sim & \\text{Binomial}(\\mathit{n}=array,~\\mathit{p}=\\text{theta})\n",
       "            \\end{array}\n",
       "            $$"
      ],
      "text/plain": [
       "<pymc3.model.Model at 0x2763d6c7c50>"
      ]
     },
     "execution_count": 13,
     "metadata": {},
     "output_type": "execute_result"
    }
   ],
   "source": [
    "pm.traceplot()"
   ]
  },
  {
   "cell_type": "code",
   "execution_count": null,
   "metadata": {},
   "outputs": [],
   "source": []
  },
  {
   "cell_type": "code",
   "execution_count": null,
   "metadata": {},
   "outputs": [],
   "source": []
  },
  {
   "cell_type": "code",
   "execution_count": 27,
   "metadata": {},
   "outputs": [
    {
     "name": "stdout",
     "output_type": "stream",
     "text": [
      "-0.13512429272015916\n",
      "2.1188491538334735\n",
      "0.09828194981260477\n",
      "0.10011271346162348\n"
     ]
    }
   ],
   "source": [
    "sig_a = 0.1\n",
    "sig_b = 0.1\n",
    "\n",
    "n = 100000\n",
    "p= lambda x,y:  liklihood(x,y)\n",
    "\n",
    "alpha0=np.random.normal()\n",
    "beta0=np.random.normal()\n",
    "alpha_prev =alpha0\n",
    "beta_prev =beta0\n",
    "\n",
    "alphas = np.zeros(n)\n",
    "betas = np.zeros(n)\n",
    "\n",
    "for i in range(n):\n",
    "\n",
    "    alpha_prop = np.random.normal(x_prev, sig_x)\n",
    "    \n",
    "    prob_prop = p(alpha_prop,y_prev)\n",
    "    prob_prev = p(x_prev, y_prev)\n",
    "    A =  prob_prop/prob_prev\n",
    "    U = np.random.uniform()\n",
    "    \n",
    "    if (U < A):\n",
    "        alphas[i] = alpha_prop\n",
    "        alpha_prev = alpha_prop\n",
    "    else: \n",
    "        alphas[i] = alpha_prev\n",
    "        alpha_prev = alphas[i]\n",
    "    \n",
    "    beta_prop =  np.random.normal(y_prev, sig_y)\n",
    "    \n",
    "    prob_prop = p(x_prev,y_star)\n",
    "    prob_prev = p(x_prev, y_prev)\n",
    "    A =  prob_prop/prob_prev\n",
    "    \n",
    "    U = np.random.uniform()\n",
    "     \n",
    "    if U < A:\n",
    "        betas[i] = beta_prop\n",
    "        beta_prev = beta_prop\n",
    "    else: \n",
    "        betas[i] = beta_prev\n",
    "        beta_prev = betas[i]\n",
    "\n",
    "print(np.mean(alphas))\n",
    "print(np.mean(betas))\n",
    "print(np.std(alphas))\n",
    "print(np.std(betas))"
   ]
  },
  {
   "cell_type": "code",
   "execution_count": null,
   "metadata": {},
   "outputs": [],
   "source": []
  },
  {
   "cell_type": "code",
   "execution_count": null,
   "metadata": {},
   "outputs": [],
   "source": []
  },
  {
   "cell_type": "code",
   "execution_count": 48,
   "metadata": {},
   "outputs": [],
   "source": [
    "def metropolis(n_iterations, initial_values, prop_var=1):\n",
    "    n_params = len(initial_values)\n",
    "    prop_sd = [prop_var]*n_params\n",
    "    trace = np.empty((n_iterations+1, n_params))\n",
    "    trace[0] = initial_values\n",
    "    current_prob = liklihood(*trace[0])\n",
    "    accepted = [0]*n_params\n",
    "    \n",
    "    for i in log_progress(range(n_iterations), every=1000):\n",
    "        \n",
    "        current_params = trace[i]\n",
    "    \n",
    "        p = trace[i].copy() \n",
    "        for j in range(n_params):\n",
    "            theta = np.random.normal(current_params[j], prop_sd[j])\n",
    "\n",
    "            p[j] = theta\n",
    "            proposed_prob = liklihood(*p)\n",
    "            alpha = proposed_prob/current_prob\n",
    "            u = np.random.rand()\n",
    "    \n",
    "            if (u) < alpha:\n",
    "                trace[i+1,j] = theta\n",
    "                current_prob = proposed_prob\n",
    "                accepted[j] += 1\n",
    "            else:\n",
    "                trace[i+1,j] = trace[i,j]\n",
    "            \n",
    "            p[j] = trace[i+1,j]\n",
    "    return trace, accepted\n",
    "\n",
    "def autocorr(x):\n",
    "    result = np.correlate(x, x, mode='full')\n",
    "    result = result/result[result.size/2]\n",
    "    return result[result.size/2:]"
   ]
  },
  {
   "cell_type": "code",
   "execution_count": 49,
   "metadata": {},
   "outputs": [
    {
     "data": {
      "application/vnd.jupyter.widget-view+json": {
       "model_id": "a71a96b0729441febe9ee3bad7cbf8da",
       "version_major": 2,
       "version_minor": 0
      },
      "text/plain": [
       "VBox(children=(HTML(value=''), IntProgress(value=0, max=50000)))"
      ]
     },
     "metadata": {},
     "output_type": "display_data"
    }
   ],
   "source": [
    "n_iter = 50000\n",
    "trace, acc = metropolis(n_iter, (11,17), 1)"
   ]
  },
  {
   "cell_type": "code",
   "execution_count": 60,
   "metadata": {},
   "outputs": [],
   "source": [
    "#alpha = trace[:,0]; beta=trace[:,1]\n",
    "\n",
    "thinning = 10\n",
    "burnin = 5000\n",
    "#alpha = trace[burnin:len(trace):thinning,0]; beta=trace[burnin:len(trace):thinning,1]\n",
    "\n",
    "alpha = trace[burnin:,0]; beta=trace[burnin:,1]"
   ]
  },
  {
   "cell_type": "code",
   "execution_count": null,
   "metadata": {},
   "outputs": [],
   "source": []
  },
  {
   "cell_type": "code",
   "execution_count": 65,
   "metadata": {},
   "outputs": [
    {
     "data": {
      "text/plain": [
       "(0, 1000)"
      ]
     },
     "execution_count": 65,
     "metadata": {},
     "output_type": "execute_result"
    },
    {
     "data": {
      "image/png": "[encoded data removed]",
      "text/plain": [
       "<Figure size 864x576 with 5 Axes>"
      ]
     },
     "metadata": {
      "needs_background": "light"
     },
     "output_type": "display_data"
    }
   ],
   "source": [
    "plt.figure(figsize=[12,8])\n",
    "plt.subplot(2,2,1) \n",
    "plt.plot(alpha)\n",
    "plt.subplot(2,2,2) \n",
    "fig=plt.hist(alpha)\n",
    "plt.subplot(2,2,3)\n",
    "\n",
    "plt.contourf(alpha_range,beta_range,grid.T, alpha=0.3)\n",
    "plt.colorbar()\n",
    "plt.scatter(alpha, beta, s=0.2, alpha=0.2)\n",
    "plt.subplot(2,2,4)\n",
    "plt.acorr(alpha-np.mean(alpha),  normed=True, usevlines=False, maxlags=1000, label=u'Shuffled')\n",
    "\n",
    "plt.xlim( (0,1000))"
   ]
  },
  {
   "cell_type": "code",
   "execution_count": null,
   "metadata": {},
   "outputs": [],
   "source": []
  },
  {
   "cell_type": "code",
   "execution_count": 64,
   "metadata": {},
   "outputs": [
    {
     "name": "stdout",
     "output_type": "stream",
     "text": [
      "LD50: 1112 mg/ml\n"
     ]
    },
    {
     "data": {
      "image/png": "[encoded data removed]",
      "text/plain": [
       "<Figure size 432x288 with 1 Axes>"
      ]
     },
     "metadata": {
      "needs_background": "light"
     },
     "output_type": "display_data"
    }
   ],
   "source": [
    "comp_ld50(alpha, beta)"
   ]
  },
  {
   "cell_type": "code",
   "execution_count": null,
   "metadata": {},
   "outputs": [],
   "source": []
  },
  {
   "cell_type": "code",
   "execution_count": null,
   "metadata": {},
   "outputs": [],
   "source": []
  },
  {
   "cell_type": "code",
   "execution_count": 33,
   "metadata": {},
   "outputs": [],
   "source": [
    "def log_progress(sequence, every=None, size=None, name='Items'):\n",
    "    from ipywidgets import IntProgress, HTML, VBox\n",
    "    from IPython.display import display\n",
    "\n",
    "    is_iterator = False\n",
    "    if size is None:\n",
    "        try:\n",
    "            size = len(sequence)\n",
    "        except TypeError:\n",
    "            is_iterator = True\n",
    "    if size is not None:\n",
    "        if every is None:\n",
    "            if size <= 200:\n",
    "                every = 1\n",
    "            else:\n",
    "                every = int(size / 200)     # every 0.5%\n",
    "    else:\n",
    "        assert every is not None, 'sequence is iterator, set every'\n",
    "\n",
    "    if is_iterator:\n",
    "        progress = IntProgress(min=0, max=1, value=1)\n",
    "        progress.bar_style = 'info'\n",
    "    else:\n",
    "        progress = IntProgress(min=0, max=size, value=0)\n",
    "    label = HTML()\n",
    "    box = VBox(children=[label, progress])\n",
    "    display(box)\n",
    "\n",
    "    index = 0\n",
    "    try:\n",
    "        for index, record in enumerate(sequence, 1):\n",
    "            if index == 1 or index % every == 0:\n",
    "                if is_iterator:\n",
    "                    label.value = '{name}: {index} / ?'.format(\n",
    "                        name=name,\n",
    "                        index=index\n",
    "                    )\n",
    "                else:\n",
    "                    progress.value = index\n",
    "                    label.value = u'{name}: {index} / {size}'.format(\n",
    "                        name=name,\n",
    "                        index=index,\n",
    "                        size=size\n",
    "                    )\n",
    "            yield record\n",
    "    except:\n",
    "        progress.bar_style = 'danger'\n",
    "        raise\n",
    "    else:\n",
    "        progress.bar_style = 'success'\n",
    "        progress.value = index\n",
    "        label.value = \"{name}: {index}\".format(\n",
    "            name=name,\n",
    "            index=str(index or '?')\n",
    "        )"
   ]
  },
  {
   "cell_type": "code",
   "execution_count": null,
   "metadata": {},
   "outputs": [],
   "source": []
  }
 ],
 "metadata": {
  "kernelspec": {
   "display_name": "Python 3",
   "language": "python",
   "name": "python3"
  },
  "language_info": {
   "codemirror_mode": {
    "name": "ipython",
    "version": 3
   },
   "file_extension": ".py",
   "mimetype": "text/x-python",
   "name": "python",
   "nbconvert_exporter": "python",
   "pygments_lexer": "ipython3",
   "version": "3.6.7"
  }
 },
 "nbformat": 4,
 "nbformat_minor": 2
}
