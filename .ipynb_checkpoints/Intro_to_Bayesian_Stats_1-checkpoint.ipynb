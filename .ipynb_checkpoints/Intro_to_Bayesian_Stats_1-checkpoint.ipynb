{
 "cells": [
  {
   "cell_type": "code",
   "execution_count": 31,
   "metadata": {},
   "outputs": [
    {
     "name": "stdout",
     "output_type": "stream",
     "text": [
      "['seaborn-deep', 'Solarize_Light2', 'seaborn-paper', 'bmh', 'fivethirtyeight', '_classic_test', 'seaborn-talk', 'seaborn-muted', 'seaborn-whitegrid', 'ggplot', 'fast', 'seaborn-poster', 'seaborn-darkgrid', 'seaborn-dark-palette', 'seaborn-colorblind', 'seaborn-ticks', 'grayscale', 'seaborn-white', 'dark_background', 'classic', 'seaborn', 'seaborn-pastel', 'tableau-colorblind10', 'seaborn-dark', 'seaborn-bright', 'seaborn-notebook']\n"
     ]
    }
   ],
   "source": [
    "import numpy as np\n",
    "import matplotlib\n",
    "import matplotlib.pyplot as plt\n",
    "import scipy.stats as stats\n",
    "import math\n",
    "\n",
    "# font = {'weight' : 'bold',\n",
    "#         'size'   : 18}\n",
    "\n",
    "# matplotlib.rc('font', **font)\n",
    "\n",
    "print(plt.style.available)\n",
    "# plt.style.use('seaborn-notebook')\n",
    "plt.style.use(['seaborn-poster', 'fivethirtyeight', 'seaborn-whitegrid', 'seaborn-colorblind'])"
   ]
  },
  {
   "cell_type": "markdown",
   "metadata": {},
   "source": [
    "# Introducing laws of probability through a betting game\n",
    "\n",
    "## The game\n",
    " - Throwing a coin and betting on the outcome being a Heads or a Tails\n",
    " - If the outcome is Heads you win £1 otherwise you win £0\n",
    " - Under what conditions would you play this game?"
   ]
  },
  {
   "cell_type": "code",
   "execution_count": 2,
   "metadata": {},
   "outputs": [],
   "source": [
    "def throw(p=True):\n",
    "    if np.random.rand() > 0.5:\n",
    "        if p:\n",
    "            print('Heads')\n",
    "        return 1.0\n",
    "    else:\n",
    "        if p:\n",
    "            print('Tails')\n",
    "        return 0.0"
   ]
  },
  {
   "cell_type": "code",
   "execution_count": 3,
   "metadata": {},
   "outputs": [
    {
     "name": "stdout",
     "output_type": "stream",
     "text": [
      "Tails\n"
     ]
    }
   ],
   "source": [
    "_ = throw()"
   ]
  },
  {
   "cell_type": "code",
   "execution_count": 4,
   "metadata": {},
   "outputs": [
    {
     "name": "stdout",
     "output_type": "stream",
     "text": [
      "0.53\n"
     ]
    }
   ],
   "source": [
    "results = np.array([throw(p=False) for _ in range(100)])\n",
    "print(np.mean(results))"
   ]
  },
  {
   "cell_type": "markdown",
   "metadata": {},
   "source": [
    "## Would you play:\n",
    " - If it costs £0.05 to play?\n"
   ]
  },
  {
   "cell_type": "code",
   "execution_count": 5,
   "metadata": {},
   "outputs": [],
   "source": [
    "def game(Games, cost_to_play, p=True):\n",
    "    yes='Yes'\n",
    "    no='No'\n",
    "\n",
    "    total_cost = Games * cost_to_play\n",
    "    if p:\n",
    "        print(f'Amount it costs you : £{total_cost}')\n",
    "\n",
    "    winnings = np.sum(np.array([throw(p=False) for _ in range(Games)]))\n",
    "    if p:\n",
    "        print(f'Amount you win : £{winnings}')\n",
    "\n",
    "    if p:\n",
    "        print(f'Was it wise to play {yes if winnings>total_cost else no}')\n",
    "    return 1 if winnings>total_cost else 0"
   ]
  },
  {
   "cell_type": "code",
   "execution_count": 6,
   "metadata": {},
   "outputs": [
    {
     "name": "stdout",
     "output_type": "stream",
     "text": [
      "Amount it costs you : £5.0\n",
      "Amount you win : £43.0\n",
      "Was it wise to play Yes\n"
     ]
    }
   ],
   "source": [
    "Games = 100\n",
    "cost_to_play = 0.05\n",
    "\n",
    "_ = game(Games, cost_to_play)"
   ]
  },
  {
   "cell_type": "markdown",
   "metadata": {},
   "source": [
    " - If it costs £0.95 to play?"
   ]
  },
  {
   "cell_type": "code",
   "execution_count": 7,
   "metadata": {},
   "outputs": [
    {
     "name": "stdout",
     "output_type": "stream",
     "text": [
      "Amount it costs you : £95.0\n",
      "Amount you win : £45.0\n",
      "Was it wise to play No\n"
     ]
    }
   ],
   "source": [
    "Games = 100\n",
    "cost_to_play = 0.95\n",
    "\n",
    "_ = game(Games, cost_to_play)"
   ]
  },
  {
   "cell_type": "markdown",
   "metadata": {},
   "source": [
    "## You now own the game\n",
    "### What would you set the sell and buy prices at if I choose whether I want to buy or sell?\n",
    " - If I choose to sell you pay £p to buy and I give you £1 if the outcome is heads\n",
    " - If I choose to buy I pay £p to sell and you give me £1 if the outcome is heads"
   ]
  },
  {
   "cell_type": "markdown",
   "metadata": {},
   "source": [
    "### If you have a belief p in the outcome:\n",
    " - you would be willing to buy at $\\le$ £p\n",
    " - and you would be willing to sell at $\\ge$ £p\n",
    " \n",
    "### This captured our degree of uncertainty about the event taking place (aka $\\textbf{uncertainty}$)"
   ]
  },
  {
   "cell_type": "markdown",
   "metadata": {},
   "source": [
    "# Rational Beliefs\n",
    "## New game with two coins\n",
    " - Betting on the outcome of coin 1 being Heads\n",
    " - Betting on the outcome of coin 2 being Tails\n",
    " \n",
    " - You set the price for coin 1 at £q and for coin 2 at £p\n",
    " - I decide whether to buy or sell\n"
   ]
  },
  {
   "cell_type": "code",
   "execution_count": 8,
   "metadata": {},
   "outputs": [],
   "source": [
    "throws = 100\n",
    "p = 0.4\n",
    "q = 0.4\n"
   ]
  },
  {
   "cell_type": "code",
   "execution_count": 9,
   "metadata": {},
   "outputs": [
    {
     "name": "stdout",
     "output_type": "stream",
     "text": [
      "Will I buy off you True\n",
      "Amount it costs me : £80.0\n",
      "Amount I win : £97.0\n"
     ]
    }
   ],
   "source": [
    "will_i_buy = True if (p+q)<1 else False\n",
    "\n",
    "if will_i_buy:\n",
    "    print(f'Will I buy off you {will_i_buy}')\n",
    "    results1 = np.array([throw(p=False) for _ in range(throws)])\n",
    "    results2 = 1-np.array([throw(p=False) for _ in range(throws)])\n",
    "    \n",
    "    total_cost = throws*(p+q)\n",
    "    print(f'Amount it costs me : £{total_cost}')\n",
    "    \n",
    "    winnings = np.sum(results1) + np.sum(results2)\n",
    "    print(f'Amount I win : £{winnings}')\n",
    "    \n",
    "else:\n",
    "    print(f'Will I buy off you {will_i_buy}')\n"
   ]
  },
  {
   "cell_type": "markdown",
   "metadata": {},
   "source": [
    "### Outcome\n",
    " - If £q + £p is less than £1 then I will always play as there is 50% chance of winning each game\n",
    " - If I play enough times I will win £1 on average from each game, but it costs less than £1 to play\n",
    " - This is called a Dutch book, you are guarenteed to lose money."
   ]
  },
  {
   "cell_type": "markdown",
   "metadata": {},
   "source": [
    "### Set of beliefs is called rational is no Dutch book exists"
   ]
  },
  {
   "cell_type": "markdown",
   "metadata": {},
   "source": [
    "## More formally - Rational beliefs\n",
    " - Define a sample space $\\textbf{X}$ of events\n",
    "  - E.g. flipping two coins $\\textbf{X = {HH, HT, TH, TT}}$\n",
    " - Let $\\textbf{A}$ be an event (a subspace of $\\textbf{X}$)\n",
    "  - If $\\textbf{A}$ holds true at least one outcome occured\n",
    "  - E.g. \"At least on head occured\" $\\leftrightarrow$ $\\textbf{A = {HH, HT, TH}}$\n",
    " - Write $P_A$ for belief of an event\n",
    "  - Your wager on $\\textbf{A}$ (assuming all wagers are unit wagers)\n",
    "\n",
    "#### Sum of probabilities equals 1\n",
    " - Can show that $\\{P_A\\}_{A \\subset X}$ are rational beliefs iff $\\{P_A\\}_{A \\subset X}$ satisfy laws of probability theory\n",
    "\n",
    "### We have just shown that $p_{A} + p_{A^{c}} = 1$\n",
    "\n"
   ]
  },
  {
   "cell_type": "markdown",
   "metadata": {},
   "source": [
    "### In addition, I claim that:\n",
    " - $0 \\leq p_X \\leq 1$\n",
    " - $p_X = 1$\n",
    " - $P_{A \\cup B}$ = $P_A$ + $P_B$\n",
    "\n",
    "#### Back to the game\n",
    " - $p_A > 1$\n",
    " - I sell the bet on a coin flip where you win £1 if the outcome is Heads at $>$ 1"
   ]
  },
  {
   "cell_type": "code",
   "execution_count": 10,
   "metadata": {},
   "outputs": [
    {
     "name": "stdout",
     "output_type": "stream",
     "text": [
      "Amount it costs you : £110.00000000000001\n",
      "Amount you win : £48.0\n",
      "Was it wise to play No\n"
     ]
    }
   ],
   "source": [
    "Games = 100\n",
    "cost_to_play = 1.1\n",
    "\n",
    "_ = game(Games, cost_to_play)"
   ]
  },
  {
   "cell_type": "markdown",
   "metadata": {},
   "source": [
    "#### Back to the game\n",
    " - $p_a < 0$\n",
    " - I buy the bet on a coin flip where you win £1 if the outcome is Heads at $<$ 0\n",
    " - ...\n",
    " - Given the cost is less than £0, you will pay me to play so I am winning even when the coin flip doesn't go my way!"
   ]
  },
  {
   "cell_type": "markdown",
   "metadata": {},
   "source": [
    "#### Back to the game\n",
    " - $p_X > 1$\n",
    " - Your belief that at least one outcome in X holds true\n",
    " - ...\n",
    " - Same as $P_A > 1$ if you belive that at least one outcome holding true is worth $>$ than £1 in a game where the payout is £1 I will sell to you"
   ]
  },
  {
   "cell_type": "markdown",
   "metadata": {},
   "source": [
    "#### Back to the game\n",
    " - $p_X = 1$\n",
    " - Your belief that at least one outcome in X holds true\n",
    " - ...\n",
    " - Same as $P_A < 1$ if you belive that at least one outcome holding true is worth $<$ that £1 in a game where the payout is £1 I will sell to you\n",
    " - At least one outcome must hold. You will lose £1-p"
   ]
  },
  {
   "cell_type": "markdown",
   "metadata": {},
   "source": [
    "#### Back to the game\n",
    " - $P_{A \\cup B}$ = $P_A$ + $P_B$\n",
    " - $P_A$ your price to pay if event A happens\n",
    " - $P_B$ your price to pay if event B happens\n",
    " - $P_{A \\cup B}$ your price to pay if event A or B happens\n",
    " - ...\n",
    " - if $P_{A \\cup B}$ < $P_A$ + $P_B$\n",
    "  - I will sell you A and B and buy A$\\cup$B (two disjoint events) from you"
   ]
  },
  {
   "cell_type": "code",
   "execution_count": 11,
   "metadata": {},
   "outputs": [
    {
     "name": "stdout",
     "output_type": "stream",
     "text": [
      "Amount you owe me : £0.19999999999999996\n"
     ]
    }
   ],
   "source": [
    "Pa = 0.5\n",
    "Pb = 0.5\n",
    "Paub = 0.8\n",
    "\n",
    "if Paub < Pa+Pb:\n",
    "    cost_to_you = Pa + Pb\n",
    "    cost_to_me = Paub\n",
    "    print(f'Amount you owe me : £{cost_to_you-cost_to_me}')\n",
    "else:\n",
    "    print(f'I will not play')\n",
    "\n"
   ]
  },
  {
   "cell_type": "markdown",
   "metadata": {},
   "source": [
    "## The three axioms of propability follow from these three properties of rational beliefs\n",
    "### $0 \\leq p_A \\leq 1$ $\\>\\>\\>\\>\\>\\>$ $\\forall A \\subset X$\n",
    "### $p_X = 1$\n",
    "### $P_{A \\cup B}$ = $P_A$ + $P_B$\n"
   ]
  },
  {
   "cell_type": "markdown",
   "metadata": {},
   "source": [
    "# Introducing Bayesian statistics"
   ]
  },
  {
   "cell_type": "markdown",
   "metadata": {},
   "source": [
    "![title](https://imgs.xkcd.com/comics/frequentists_vs_bayesians.png)"
   ]
  },
  {
   "cell_type": "markdown",
   "metadata": {},
   "source": [
    "### First conditional probability\n",
    " - Assuming that $p_B > 0$\n",
    " - We define the conditional probability of $A$ given that $B$ has occured as follows:\n",
    " - $p(A \\mid B) = \\dfrac{p(AB)}{p(B)}$\n",
    " - ...\n",
    " - Note: In general $p(A \\mid B)$ is not equal to $p(B \\mid a)$\n",
    " - ...\n",
    " - If $A$ and $B$ are independent events then $p(A \\mid B) = p(A)$"
   ]
  },
  {
   "cell_type": "markdown",
   "metadata": {},
   "source": [
    "# Bayes Theorem\n",
    "\n",
    " - To make probability statements about $\\theta$ given $data$ we start with a model providing a joint probability distribution for $\\theta$ and $data$, $p(\\theta, data)$.\n",
    " - This can be rewritten : $p(\\theta, data) = p(data \\mid \\theta) p(\\theta)$ \n",
    " \n",
    "## $p(\\theta \\mid data) = \\dfrac{p(\\theta \\: data)}{data} =  \\dfrac{p(data \\mid \\theta) p(\\theta)}{p(data)}$\n",
    " - Posterior : $p(\\theta \\mid data)$\n",
    " - Likelihood : $p(data \\mid \\theta)$\n",
    " - Prior : $p(\\theta)$\n",
    " - Model Evidence : $p(data)$\n",
    " \n"
   ]
  },
  {
   "cell_type": "markdown",
   "metadata": {},
   "source": [
    "### Example likelihood model is a coin flip\n",
    " - A fair coin gives $\\theta = 0.5$\n",
    " - ...\n",
    " - So what is the probability of generating a particular sample given the model parameters\n",
    " - $Pr(H,H \\mid \\theta = 0.5) = Pr(H \\mid \\theta = 0.5)Pr(H \\mid \\theta = 0.5) = 0.5 * 0.5 = 0.25$"
   ]
  },
  {
   "cell_type": "markdown",
   "metadata": {},
   "source": [
    "### Example prior over parameters for the coin\n",
    " - We may not know that the coin is fair\n",
    " - We could define a prior assigning the same prior belief across all possible parameter values, or\n",
    " - We could define a prior belief more confident the coin is fair"
   ]
  },
  {
   "cell_type": "code",
   "execution_count": 32,
   "metadata": {},
   "outputs": [
    {
     "data": {
      "text/plain": [
       "Text(0.5, 1.0, 'Prior beliefs about the coin')"
      ]
     },
     "execution_count": 32,
     "metadata": {},
     "output_type": "execute_result"
    },
    {
     "data": {
      "image/png": "[encoded data removed]",
      "text/plain": [
       "<Figure size 921.6x633.6 with 1 Axes>"
      ]
     },
     "metadata": {},
     "output_type": "display_data"
    }
   ],
   "source": [
    "x = np.linspace(0, 1, 100)\n",
    "fair_prior = stats.norm.pdf(x, 0.5, 0.15)\n",
    "uniform = np.ones(100)\n",
    "fig, ax = plt.subplots()\n",
    "ax.plot(x, fair_prior, 'r', label='fair prior')\n",
    "ax.plot(x, uniform, 'k', label='uniform prior')\n",
    "ax.legend()\n",
    "ax.set_xlabel('Prbability of throwing a Heads')\n",
    "ax.set_ylabel('Prbability density')\n",
    "ax.set_title('Prior beliefs about the coin')"
   ]
  },
  {
   "cell_type": "markdown",
   "metadata": {},
   "source": [
    "### The evidence \n",
    " - $p(data) = \\int p(data \\mid \\theta) p(\\theta) d \\theta$"
   ]
  },
  {
   "cell_type": "markdown",
   "metadata": {},
   "source": [
    "### The posterior \n",
    " - $p(\\theta \\mid data)$\n",
    " - May want to know the posterior using a uniform prior given before and knowing a coin was flipped 10 times giving 7 heads, or\n",
    " - The coin was flipped 100 times giving 70 heads"
   ]
  },
  {
   "cell_type": "markdown",
   "metadata": {},
   "source": [
    "#### For a coin throwing example the likelihood is calculated using the following equation\n",
    " - $p(data \\mid \\theta) = \\prod _{i} p(y_i \\mid \\theta) = \\theta^{\\#heads} (1-\\theta)^{\\#tails}$"
   ]
  },
  {
   "cell_type": "markdown",
   "metadata": {},
   "source": [
    "### The unnormalized posterior is often used as the model evidence can be difficult to calculate, this is calculated as $p(data \\mid \\theta) p(\\theta)$"
   ]
  },
  {
   "cell_type": "markdown",
   "metadata": {},
   "source": [
    "#### Posterior calculation"
   ]
  },
  {
   "cell_type": "code",
   "execution_count": 52,
   "metadata": {},
   "outputs": [],
   "source": [
    "def calc_posterior(theta, num_heads, num_throws, prior, normalize = True):\n",
    "    ## Likelihood calculation\n",
    "    likelihood = (math.factorial(num_throws)/(math.factorial(num_heads)*math.factorial(num_throws-num_heads))) * np.power(theta,num_heads) * np.power((1-theta),(num_throws-num_heads))\n",
    "    if normalize:\n",
    "        ## Normalizing\n",
    "        normalizing = (math.factorial(num_heads) * math.factorial(num_throws-num_heads)) / math.factorial(num_throws+1)\n",
    "        ## Posterior density calculation\n",
    "        posterior = likelihood * prior / normalizing\n",
    "    else:\n",
    "        posterior = likelihood * prior\n",
    "    return posterior"
   ]
  },
  {
   "cell_type": "code",
   "execution_count": 53,
   "metadata": {},
   "outputs": [],
   "source": [
    "## Prior calculation\n",
    "prior = np.ones(100) #Uniform"
   ]
  },
  {
   "cell_type": "code",
   "execution_count": 54,
   "metadata": {},
   "outputs": [],
   "source": [
    "## Data\n",
    "x = np.linspace(0, 1, 100)\n",
    "num_heads = 7\n",
    "num_throws = 10\n",
    "\n",
    "## Get posterios\n",
    "posterior7 = calc_posterior(theta=x, num_heads=num_heads, num_throws=num_throws, prior=prior, normalize=False)"
   ]
  },
  {
   "cell_type": "code",
   "execution_count": 55,
   "metadata": {},
   "outputs": [],
   "source": [
    "## Data\n",
    "x = np.linspace(0, 1, 100)\n",
    "num_heads = 70\n",
    "num_throws = 100\n",
    "\n",
    "posterior70 = calc_posterior(theta=x, num_heads=num_heads, num_throws=num_throws, prior=prior, normalize=False)"
   ]
  },
  {
   "cell_type": "code",
   "execution_count": 56,
   "metadata": {},
   "outputs": [
    {
     "data": {
      "text/plain": [
       "Text(0, 0.5, 'Unnormalized Posterior density')"
      ]
     },
     "execution_count": 56,
     "metadata": {},
     "output_type": "execute_result"
    },
    {
     "data": {
      "image/png": "[encoded data removed]",
      "text/plain": [
       "<Figure size 432x288 with 1 Axes>"
      ]
     },
     "metadata": {
      "needs_background": "light"
     },
     "output_type": "display_data"
    }
   ],
   "source": [
    "fig, ax = plt.subplots()\n",
    "ax.plot(x, posterior7, 'k', label='7 / 10')\n",
    "ax.plot(x, posterior70, 'r', label='70 / 100')\n",
    "ax.legend()\n",
    "ax.set_xlabel(r'Prbability of throwing a Heads, $\\theta$')\n",
    "ax.set_ylabel(r'Unnormalized Posterior density')\n",
    "# ax.set_title('Posterior density')"
   ]
  },
  {
   "cell_type": "markdown",
   "metadata": {},
   "source": [
    "#### Normlaized posterior calculation \n",
    " - The model choice made allows for the normalizing constant (the model evidence) to be calculated\n",
    " - For a binomial distribution the model with a uniform prior the model evidence evaluates to:\n",
    "  - $\\int^1_0 \\theta^{\\#heads}(1-\\theta)^{\\#tails}d\\theta = \\dfrac{\\#heads! (\\#throws - \\#heads)!}{(\\#throws + 1)!}$"
   ]
  },
  {
   "cell_type": "code",
   "execution_count": 38,
   "metadata": {},
   "outputs": [],
   "source": [
    "## Prior calculation\n",
    "prior = np.ones(100) #Uniform"
   ]
  },
  {
   "cell_type": "code",
   "execution_count": 39,
   "metadata": {},
   "outputs": [],
   "source": [
    "## Data\n",
    "x = np.linspace(0, 1, 100)\n",
    "num_heads = 7\n",
    "num_throws = 10\n",
    "\n",
    "## Get posterios\n",
    "posterior7 = calc_posterior(theta=x, num_heads=num_heads, num_throws=num_throws, prior=prior, normalize=True)"
   ]
  },
  {
   "cell_type": "code",
   "execution_count": 40,
   "metadata": {},
   "outputs": [],
   "source": [
    "## Data\n",
    "x = np.linspace(0, 1, 100)\n",
    "num_heads = 70\n",
    "num_throws = 100\n",
    "\n",
    "posterior70 = calc_posterior(theta=x, num_heads=num_heads, num_throws=num_throws, prior=prior, normalize=True)"
   ]
  },
  {
   "cell_type": "code",
   "execution_count": 41,
   "metadata": {},
   "outputs": [
    {
     "data": {
      "text/plain": [
       "Text(0, 0.5, 'Posterior densityy')"
      ]
     },
     "execution_count": 41,
     "metadata": {},
     "output_type": "execute_result"
    },
    {
     "data": {
      "image/png": "[encoded data removed]",
      "text/plain": [
       "<Figure size 921.6x633.6 with 1 Axes>"
      ]
     },
     "metadata": {},
     "output_type": "display_data"
    }
   ],
   "source": [
    "fig, ax = plt.subplots()\n",
    "ax.plot(x, posterior7, 'k', label='7 / 10')\n",
    "ax.plot(x, posterior70, 'r', label='70 / 100')\n",
    "ax.legend()\n",
    "ax.set_xlabel(r'Prbability of throwing a Heads, $\\theta$')\n",
    "ax.set_ylabel(r'Posterior density')\n",
    "# ax.set_title('Posterior density')"
   ]
  },
  {
   "cell_type": "code",
   "execution_count": 50,
   "metadata": {},
   "outputs": [],
   "source": [
    "from ipywidgets import interact, interactive, fixed, interact_manual\n",
    "import ipywidgets as widgets\n",
    "\n",
    "%matplotlib inline\n",
    "\n",
    "def interactive_posterior(num_throws, num_heads):\n",
    "    x = np.linspace(0, 1, 100)\n",
    "    posterior_interactive = calc_posterior(theta=x, num_heads=num_heads, num_throws=num_throws, prior=prior, normalize=True)\n",
    "    fig, ax = plt.subplots()\n",
    "    ax.plot(x, posterior_interactive, 'k', label='interactive')\n",
    "    ax.legend()\n",
    "    ax.set_xlabel(r'Prbability of throwing a Heads, $\\theta$')\n",
    "    ax.set_ylabel(r'Posterior density')   "
   ]
  },
  {
   "cell_type": "code",
   "execution_count": 51,
   "metadata": {},
   "outputs": [
    {
     "data": {
      "application/vnd.jupyter.widget-view+json": {
       "model_id": "3e69357306d846e9a6fb59fd445ccb55",
       "version_major": 2,
       "version_minor": 0
      },
      "text/plain": [
       "interactive(children=(FloatSlider(value=10.0, description='num_throws', min=1.0, step=1.0), FloatSlider(value=…"
      ]
     },
     "metadata": {},
     "output_type": "display_data"
    },
    {
     "data": {
      "text/plain": [
       "<function __main__.interactive_posterior(num_throws, num_heads)>"
      ]
     },
     "execution_count": 51,
     "metadata": {},
     "output_type": "execute_result"
    }
   ],
   "source": [
    "interact(interactive_posterior, \n",
    "         num_throws = widgets.FloatSlider(value=10,min=1,max=100,step=1),\n",
    "         num_heads = widgets.FloatSlider(value=7,min=1,max=100,step=1))"
   ]
  },
  {
   "cell_type": "markdown",
   "metadata": {},
   "source": [
    "## Likelihoods\n",
    " - Why likelihood not probability?\n",
    "  - Assuming a fair coin $\\theta = 0.5$ olding parameters fixed the resultant distribution of possible data samples is a valid distribution.\n",
    "  - In Bayesian inference we don't keep the model parameters $\\theta$ fixed. In Bayesian analysis the data is fixed and $\\theta$ varies. This allows us to calculate the probability of data for any value of $\\theta$\n",
    "  \n",
    "### Maximum likelihood\n",
    " - It is often useful to estimate the parameters of the model.\n",
    " - The Frequentist approach is to use maximum likelihood\n",
    " - The principle is to calculate parameter values which maximise the likelihood of obtaining our data sample."
   ]
  },
  {
   "cell_type": "markdown",
   "metadata": {},
   "source": [
    "### Example\n",
    " - 100 coin flips, N\n",
    " - 40 heads, h\n",
    " - Binomial model $\\binom{N}{h}$ $\\theta^h (1-\\theta)^{N-h}$\n",
    " - $\\mathcal{L}(\\theta \\mid h=40, N=100) = $ $\\binom{100}{40}$ $\\theta^{40} (1-\\theta)^{100-40}$"
   ]
  },
  {
   "cell_type": "markdown",
   "metadata": {},
   "source": [
    "### Method\n",
    " - We need to find $\\theta$ which maximises the likelihood\n",
    " - Differentiate and set the gradient equal to zero\n",
    " - Actually turns out to be easier to differentiate the log likelihood\n",
    "  - This works as the log transformation is maximised at the same value of $\\theta$"
   ]
  },
  {
   "cell_type": "markdown",
   "metadata": {},
   "source": [
    "### Solution\n",
    " - Take the log\n",
    "  - $l(\\theta \\mid h=40, N=100) = \\mathrm{log}\\binom{100}{40} + \\mathrm{40}log(\\theta) + \\mathrm{60}log(10\\theta)$\n",
    " - Differentiate\n",
    "  - $\\dfrac{\\partial l}{\\partial \\theta} = \\dfrac{40}{\\hat{\\theta}} - \\dfrac{60}{1-\\hat{\\theta}}$\n",
    "  - $40(1-\\hat{\\theta}) = 60 \\hat{\\theta}$\n",
    "  - $40 = 100\\hat{\\theta}$\n",
    "  - $\\hat{\\theta} = \\dfrac{2}{5} = 0.4$\n"
   ]
  },
  {
   "cell_type": "code",
   "execution_count": 59,
   "metadata": {},
   "outputs": [],
   "source": [
    "def calc_likelihood(theta, num_throws, num_heads):\n",
    "    likelihood = (math.factorial(num_throws)/(math.factorial(num_heads)*math.factorial(num_throws-num_heads))) * np.power(theta,num_heads) * np.power((1-theta),(num_throws-num_heads))\n",
    "    return likelihood"
   ]
  },
  {
   "cell_type": "code",
   "execution_count": 62,
   "metadata": {},
   "outputs": [
    {
     "data": {
      "text/plain": [
       "Text(0, 0.5, 'likelhood density')"
      ]
     },
     "execution_count": 62,
     "metadata": {},
     "output_type": "execute_result"
    },
    {
     "data": {
      "image/png": "[encoded data removed]",
      "text/plain": [
       "<Figure size 432x288 with 1 Axes>"
      ]
     },
     "metadata": {
      "needs_background": "light"
     },
     "output_type": "display_data"
    }
   ],
   "source": [
    "x = np.linspace(0, 1, 100)\n",
    "num_throws = 100\n",
    "num_heads = 40\n",
    "likelihood = calc_likelihood(theta=x, num_heads=num_heads, num_throws=num_throws)\n",
    "fig, ax = plt.subplots()\n",
    "ax.plot(x, likelihood, 'k', label='likelihood')\n",
    "ax.legend()\n",
    "ax.set_xlabel(r'$\\theta$')\n",
    "ax.set_ylabel(r'likelhood density')   "
   ]
  },
  {
   "cell_type": "code",
   "execution_count": null,
   "metadata": {},
   "outputs": [],
   "source": []
  }
 ],
 "metadata": {
  "kernelspec": {
   "display_name": "Python 3",
   "language": "python",
   "name": "python3"
  },
  "language_info": {
   "codemirror_mode": {
    "name": "ipython",
    "version": 3
   },
   "file_extension": ".py",
   "mimetype": "text/x-python",
   "name": "python",
   "nbconvert_exporter": "python",
   "pygments_lexer": "ipython3",
   "version": "3.7.4"
  }
 },
 "nbformat": 4,
 "nbformat_minor": 2
}
